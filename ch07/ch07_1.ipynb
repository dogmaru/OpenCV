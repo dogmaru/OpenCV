{
  "nbformat": 4,
  "nbformat_minor": 0,
  "metadata": {
    "colab": {
      "provenance": []
    },
    "kernelspec": {
      "name": "python3",
      "display_name": "Python 3"
    },
    "language_info": {
      "name": "python"
    }
  },
  "cells": [
    {
      "cell_type": "code",
      "execution_count": null,
      "metadata": {
        "colab": {
          "base_uri": "https://localhost:8080/"
        },
        "id": "MgPIPyP-AB1b",
        "outputId": "6d5a9b52-9a82-4be7-ba51-e6b52293aeb7"
      },
      "outputs": [
        {
          "output_type": "stream",
          "name": "stdout",
          "text": [
            "Mounted at /content/gdrive\n"
          ]
        }
      ],
      "source": [
        "from google.colab import drive\n",
        "import cv2\n",
        "from google.colab.patches import cv2_imshow\n",
        "import numpy as np\n",
        "import matplotlib.pyplot as plt\n",
        "\n",
        "drive.mount('/content/gdrive')"
      ]
    },
    {
      "cell_type": "code",
      "source": [
        "img = cv2.imread('/content/gdrive/My Drive/ColabIP/Images/shrinking.bmp')\n",
        "RGB_img = cv2.cvtColor(img, cv2.COLOR_BGR2RGB)\n",
        "\n",
        "gImg = cv2.cvtColor(RGB_img, cv2.COLOR_RGB2GRAY)\n",
        "print(gImg.shape)\n",
        "#plt.imshow(gImg, cmap='gray')\n",
        "cv2_imshow(gImg)"
      ],
      "metadata": {
        "colab": {
          "base_uri": "https://localhost:8080/",
          "height": 291
        },
        "id": "p9X0lJPTAFLu",
        "outputId": "846319a9-b45f-4d53-8bb3-86d0be806e69"
      },
      "execution_count": null,
      "outputs": [
        {
          "output_type": "stream",
          "name": "stdout",
          "text": [
            "(256, 256)\n"
          ]
        },
        {
          "output_type": "display_data",
          "data": {
            "text/plain": [
              "<PIL.Image.Image image mode=L size=256x256>"
            ],
            "image/png": "[encoded data removed]",
            "image/jpeg": "[encoded data removed]"
          },
          "metadata": {}
        }
      ]
    },
    {
      "cell_type": "code",
      "source": [
        "outImg = cv2.resize(gImg, None, fx = 0.3, fy = 0.3, interpolation = cv2.INTER_CUBIC)  #3차 회선 보간법\n",
        "#outImg = cv2.resize(gImg, None, fx = 0.3, fy = 0.3, interpolation = cv2.INTER_LINEAR)  #양선형 보간법\n",
        "#outImg = cv2.resize(gImg, None, fx = 0.5, fy = 0.5, interpolation = cv2.INTER_NEAREST)  #최근접 이웃 보간법\n",
        "cv2_imshow(outImg)"
      ],
      "metadata": {
        "colab": {
          "base_uri": "https://localhost:8080/",
          "height": 94
        },
        "id": "7hWCcJCKAc_n",
        "outputId": "500285e6-eb44-4ec5-d09f-58898e527120"
      },
      "execution_count": null,
      "outputs": [
        {
          "output_type": "display_data",
          "data": {
            "text/plain": [
              "<PIL.Image.Image image mode=L size=77x77>"
            ],
            "image/png": "[encoded data removed]",
            "image/jpeg": "[encoded data removed]"
          },
          "metadata": {}
        }
      ]
    },
    {
      "cell_type": "code",
      "source": [
        "blurImg = cv2.GaussianBlur(gImg, (3, 3), 1)\n",
        "outImg = cv2.resize(blurImg, None, fx = 0.5, fy = 0.5, interpolation = cv2.INTER_NEAREST)\n",
        "\n",
        "cv2_imshow(outImg)"
      ],
      "metadata": {
        "colab": {
          "base_uri": "https://localhost:8080/",
          "height": 145
        },
        "id": "Fov2U49oA1yt",
        "outputId": "6d52671a-370e-4597-9481-699880303050"
      },
      "execution_count": null,
      "outputs": [
        {
          "output_type": "display_data",
          "data": {
            "text/plain": [
              "<PIL.Image.Image image mode=L size=128x128>"
            ],
            "image/png": "[encoded data removed]",
            "image/jpeg": "[encoded data removed]"
          },
          "metadata": {}
        }
      ]
    },
    {
      "cell_type": "code",
      "source": [
        "blurImg = cv2.GaussianBlur(gImg, (3, 3), 1)\n",
        "outImg = cv2.resize(blurImg, None, fx = 0.3, fy = 0.3, interpolation = cv2.INTER_LINEAR)\n",
        "\n",
        "cv2_imshow(outImg)"
      ],
      "metadata": {
        "colab": {
          "base_uri": "https://localhost:8080/",
          "height": 94
        },
        "id": "ZJCUBx5-Bzc8",
        "outputId": "43530519-59d6-46e6-e396-7af94f33b432"
      },
      "execution_count": null,
      "outputs": [
        {
          "output_type": "display_data",
          "data": {
            "text/plain": [
              "<PIL.Image.Image image mode=L size=77x77>"
            ],
            "image/png": "[encoded data removed]",
            "image/jpeg": "[encoded data removed]"
          },
          "metadata": {}
        }
      ]
    }
  ]
}